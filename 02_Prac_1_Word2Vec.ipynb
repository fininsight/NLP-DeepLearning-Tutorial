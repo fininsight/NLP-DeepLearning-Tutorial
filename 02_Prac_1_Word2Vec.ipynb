{
  "nbformat": 4,
  "nbformat_minor": 0,
  "metadata": {
    "colab": {
      "name": "02 Prac 1. Word2Vec.ipynb",
      "provenance": [],
      "collapsed_sections": [],
      "authorship_tag": "ABX9TyNNpwyqA6VK1P1XdXN2ja+b",
      "include_colab_link": true
    },
    "kernelspec": {
      "name": "python3",
      "display_name": "Python 3"
    },
    "widgets": {
      "application/vnd.jupyter.widget-state+json": {
        "2a4dc9c99ee64dab9f008121e49691e6": {
          "model_module": "@jupyter-widgets/controls",
          "model_name": "HBoxModel",
          "state": {
            "_view_name": "HBoxView",
            "_dom_classes": [],
            "_model_name": "HBoxModel",
            "_view_module": "@jupyter-widgets/controls",
            "_model_module_version": "1.5.0",
            "_view_count": null,
            "_view_module_version": "1.5.0",
            "box_style": "",
            "layout": "IPY_MODEL_d24b9934e4ca44219bb978c38c4d880d",
            "_model_module": "@jupyter-widgets/controls",
            "children": [
              "IPY_MODEL_44305e4ff3be43aab890337f997467cc",
              "IPY_MODEL_dbe81605fb50434699bddd2571c7c9ee"
            ]
          }
        },
        "d24b9934e4ca44219bb978c38c4d880d": {
          "model_module": "@jupyter-widgets/base",
          "model_name": "LayoutModel",
          "state": {
            "_view_name": "LayoutView",
            "grid_template_rows": null,
            "right": null,
            "justify_content": null,
            "_view_module": "@jupyter-widgets/base",
            "overflow": null,
            "_model_module_version": "1.2.0",
            "_view_count": null,
            "flex_flow": null,
            "width": null,
            "min_width": null,
            "border": null,
            "align_items": null,
            "bottom": null,
            "_model_module": "@jupyter-widgets/base",
            "top": null,
            "grid_column": null,
            "overflow_y": null,
            "overflow_x": null,
            "grid_auto_flow": null,
            "grid_area": null,
            "grid_template_columns": null,
            "flex": null,
            "_model_name": "LayoutModel",
            "justify_items": null,
            "grid_row": null,
            "max_height": null,
            "align_content": null,
            "visibility": null,
            "align_self": null,
            "height": null,
            "min_height": null,
            "padding": null,
            "grid_auto_rows": null,
            "grid_gap": null,
            "max_width": null,
            "order": null,
            "_view_module_version": "1.2.0",
            "grid_template_areas": null,
            "object_position": null,
            "object_fit": null,
            "grid_auto_columns": null,
            "margin": null,
            "display": null,
            "left": null
          }
        },
        "44305e4ff3be43aab890337f997467cc": {
          "model_module": "@jupyter-widgets/controls",
          "model_name": "FloatProgressModel",
          "state": {
            "_view_name": "ProgressView",
            "style": "IPY_MODEL_0b025834a6444c558acef236ec097df2",
            "_dom_classes": [],
            "description": "word embedding: 100%",
            "_model_name": "FloatProgressModel",
            "bar_style": "success",
            "max": 1000,
            "_view_module": "@jupyter-widgets/controls",
            "_model_module_version": "1.5.0",
            "value": 1000,
            "_view_count": null,
            "_view_module_version": "1.5.0",
            "orientation": "horizontal",
            "min": 0,
            "description_tooltip": null,
            "_model_module": "@jupyter-widgets/controls",
            "layout": "IPY_MODEL_4de31bf71cc34238aa6f5222d7f746f6"
          }
        },
        "dbe81605fb50434699bddd2571c7c9ee": {
          "model_module": "@jupyter-widgets/controls",
          "model_name": "HTMLModel",
          "state": {
            "_view_name": "HTMLView",
            "style": "IPY_MODEL_dd680c0ba7654f549a90d3baed952dc8",
            "_dom_classes": [],
            "description": "",
            "_model_name": "HTMLModel",
            "placeholder": "​",
            "_view_module": "@jupyter-widgets/controls",
            "_model_module_version": "1.5.0",
            "value": " 1000/1000 [00:01&lt;00:00, 693.38it/s]",
            "_view_count": null,
            "_view_module_version": "1.5.0",
            "description_tooltip": null,
            "_model_module": "@jupyter-widgets/controls",
            "layout": "IPY_MODEL_2d60ab0c55644d43ae55c86cc5cc15b4"
          }
        },
        "0b025834a6444c558acef236ec097df2": {
          "model_module": "@jupyter-widgets/controls",
          "model_name": "ProgressStyleModel",
          "state": {
            "_view_name": "StyleView",
            "_model_name": "ProgressStyleModel",
            "description_width": "initial",
            "_view_module": "@jupyter-widgets/base",
            "_model_module_version": "1.5.0",
            "_view_count": null,
            "_view_module_version": "1.2.0",
            "bar_color": null,
            "_model_module": "@jupyter-widgets/controls"
          }
        },
        "4de31bf71cc34238aa6f5222d7f746f6": {
          "model_module": "@jupyter-widgets/base",
          "model_name": "LayoutModel",
          "state": {
            "_view_name": "LayoutView",
            "grid_template_rows": null,
            "right": null,
            "justify_content": null,
            "_view_module": "@jupyter-widgets/base",
            "overflow": null,
            "_model_module_version": "1.2.0",
            "_view_count": null,
            "flex_flow": null,
            "width": null,
            "min_width": null,
            "border": null,
            "align_items": null,
            "bottom": null,
            "_model_module": "@jupyter-widgets/base",
            "top": null,
            "grid_column": null,
            "overflow_y": null,
            "overflow_x": null,
            "grid_auto_flow": null,
            "grid_area": null,
            "grid_template_columns": null,
            "flex": null,
            "_model_name": "LayoutModel",
            "justify_items": null,
            "grid_row": null,
            "max_height": null,
            "align_content": null,
            "visibility": null,
            "align_self": null,
            "height": null,
            "min_height": null,
            "padding": null,
            "grid_auto_rows": null,
            "grid_gap": null,
            "max_width": null,
            "order": null,
            "_view_module_version": "1.2.0",
            "grid_template_areas": null,
            "object_position": null,
            "object_fit": null,
            "grid_auto_columns": null,
            "margin": null,
            "display": null,
            "left": null
          }
        },
        "dd680c0ba7654f549a90d3baed952dc8": {
          "model_module": "@jupyter-widgets/controls",
          "model_name": "DescriptionStyleModel",
          "state": {
            "_view_name": "StyleView",
            "_model_name": "DescriptionStyleModel",
            "description_width": "",
            "_view_module": "@jupyter-widgets/base",
            "_model_module_version": "1.5.0",
            "_view_count": null,
            "_view_module_version": "1.2.0",
            "_model_module": "@jupyter-widgets/controls"
          }
        },
        "2d60ab0c55644d43ae55c86cc5cc15b4": {
          "model_module": "@jupyter-widgets/base",
          "model_name": "LayoutModel",
          "state": {
            "_view_name": "LayoutView",
            "grid_template_rows": null,
            "right": null,
            "justify_content": null,
            "_view_module": "@jupyter-widgets/base",
            "overflow": null,
            "_model_module_version": "1.2.0",
            "_view_count": null,
            "flex_flow": null,
            "width": null,
            "min_width": null,
            "border": null,
            "align_items": null,
            "bottom": null,
            "_model_module": "@jupyter-widgets/base",
            "top": null,
            "grid_column": null,
            "overflow_y": null,
            "overflow_x": null,
            "grid_auto_flow": null,
            "grid_area": null,
            "grid_template_columns": null,
            "flex": null,
            "_model_name": "LayoutModel",
            "justify_items": null,
            "grid_row": null,
            "max_height": null,
            "align_content": null,
            "visibility": null,
            "align_self": null,
            "height": null,
            "min_height": null,
            "padding": null,
            "grid_auto_rows": null,
            "grid_gap": null,
            "max_width": null,
            "order": null,
            "_view_module_version": "1.2.0",
            "grid_template_areas": null,
            "object_position": null,
            "object_fit": null,
            "grid_auto_columns": null,
            "margin": null,
            "display": null,
            "left": null
          }
        }
      }
    }
  },
  "cells": [
    {
      "cell_type": "markdown",
      "metadata": {
        "id": "view-in-github",
        "colab_type": "text"
      },
      "source": [
        "<a href=\"https://colab.research.google.com/github/fininsight/nlp-deeplearning-tutorial/blob/master/02_Prac_1_Word2Vec.ipynb\" target=\"_parent\"><img src=\"https://colab.research.google.com/assets/colab-badge.svg\" alt=\"Open In Colab\"/></a>"
      ]
    },
    {
      "cell_type": "markdown",
      "metadata": {
        "id": "mEg0-L6s_3wS",
        "colab_type": "text"
      },
      "source": [
        "#Word Embedding"
      ]
    },
    {
      "cell_type": "markdown",
      "metadata": {
        "id": "dijqDawl_9eJ",
        "colab_type": "text"
      },
      "source": [
        "#1 Word2Vec"
      ]
    },
    {
      "cell_type": "markdown",
      "metadata": {
        "id": "0-18xOwVAAF-",
        "colab_type": "text"
      },
      "source": [
        "##1.1 Skip-gram 직접구현"
      ]
    },
    {
      "cell_type": "code",
      "metadata": {
        "id": "YA-gZmHA_xQQ",
        "colab_type": "code",
        "colab": {}
      },
      "source": [
        "docs = [\"natural language processing and machine learning is fun and exciting\",\n",
        "        \"natural language processing and machine learning\"]"
      ],
      "execution_count": 141,
      "outputs": []
    },
    {
      "cell_type": "code",
      "metadata": {
        "id": "F9zj1XGtAJAq",
        "colab_type": "code",
        "colab": {}
      },
      "source": [
        "from collections import defaultdict\n",
        "import numpy as np \n",
        "\n",
        "class OneHotEncoder() :\n",
        "  def __init__(self, docs) :\n",
        "    # 고유 단어와 인덱스를 매칭시켜주는 사전 생성\n",
        "    self.w2i = defaultdict(lambda:len(self.w2i))\n",
        "    [self.w2i[w] for d in docs for w in d]\n",
        "    self.i2w = {v:k for k,v in self.w2i.items()}\n",
        "\n",
        "  def _get_one_hot_vector(self, w):\n",
        "    v = [0]*len(self.w2i)\n",
        "    v[self.w2i[w]] = 1\n",
        "    return v\n",
        "\n",
        "  def encode(self, docs) :\n",
        "    ret = []\n",
        "    for d in docs :\n",
        "      tmp = []\n",
        "      for w in d :\n",
        "        tmp.append(self._get_one_hot_vector(w))\n",
        "      ret.append(tmp)\n",
        "    return ret\n",
        "\n",
        "  def decode(self, v) :\n",
        "    return self.i2w[v.index(1)]"
      ],
      "execution_count": 142,
      "outputs": []
    },
    {
      "cell_type": "markdown",
      "metadata": {
        "id": "6qru8FFY-sba",
        "colab_type": "text"
      },
      "source": [
        "![대체 텍스트](https://miro.medium.com/max/1400/1*uuVrJhSF89KGJPltvJ4xhg.png)"
      ]
    },
    {
      "cell_type": "code",
      "metadata": {
        "id": "FX0iaQkFBtx2",
        "colab_type": "code",
        "colab": {}
      },
      "source": [
        "import numpy as np\n",
        "from sklearn.manifold import TSNE\n",
        "from tqdm.notebook import tqdm as tqdm\n",
        "import matplotlib as mpl\n",
        "import matplotlib.pyplot as plt\n",
        "\n",
        "class Word2Vec() :\n",
        "  def __iniit__(self):\n",
        "    pass\n",
        "\n",
        "  def _slide_window(self, encoded_docs, win_size = 2) :\n",
        "    ret = []\n",
        "\n",
        "    for d in encoded_docs : \n",
        "      win_doc = []\n",
        "      for i, w in enumerate(d) :\n",
        "        s, e = max(0, i - win_size), min(len(d), i + win_size)\n",
        "        context = d[s:e+1]\n",
        "        center = context.pop(i-s)\n",
        "        win_doc.append((center, context))\n",
        "      ret.append(win_doc)\n",
        "    return ret\n",
        "\n",
        "  def _softmax(self, output) :\n",
        "    return np.exp(output) / np.sum(np.exp(output))\n",
        "\n",
        "  #SGD to backpropagate errors \n",
        "  def _backpropagation(self, W1, W2, hidden, predict, center, context, learning_rate) :\n",
        "      err = (self._softmax(predict) - context).sum(axis=0)\n",
        "\n",
        "      delta_W2 = np.outer(hidden, err)\n",
        "      delta_W1 = np.outer(center, np.dot(W2, err))\n",
        "\n",
        "      W1 = W1 - learning_rate * delta_W1\n",
        "      W2 = W2 - learning_rate * delta_W2\n",
        "\n",
        "      return W1, W2\n",
        "\n",
        "  def embedding(self, docs, method = 'sg', win_size = 2, embedding_size = 5, learning_rate = 0.001, epoch = 10 ) :\n",
        "    if method == 'sg' :\n",
        "      return self._skipgram(docs, win_size, embedding_size, learning_rate, epoch)\n",
        "    elif method == 'cbow' :\n",
        "      return self._cbow(docs, win_size, embedding_size, learning_rate, epoch)\n",
        "\n",
        "  def _cbow(self, docs, win_size = 2, embedding_size = 5, learning_rate = 0.001, epoch = 10) :\n",
        "    tokenized_docs = [d.split() for d in docs]\n",
        "    ohe = OneHotEncoder(tokenized_docs)\n",
        "    encoded_docs = ohe.encode(tokenized_docs)\n",
        "    \n",
        "    onehot_size = len(encoded_docs[0][0])\n",
        "    W1 = np.random.rand(onehot_size, embedding_size)\n",
        "    W2 = np.random.rand(embedding_size, onehot_size)\n",
        "\n",
        "    sliding_docs = self._slide_window(encoded_docs, win_size)\n",
        "    for i in tqdm(range(epoch), desc='word embedding') :\n",
        "      for d in  sliding_docs:\n",
        "        for center, context in d : \n",
        "          #이 부분 고쳐햐암\n",
        "          hidden = np.dot(context, W1)\n",
        "          predict = np.dot(hidden, W2)\n",
        "          W1, W2 = self._backpropagation(W1, W2, hidden, predict, context, center, learning_rate)\n",
        "      #self.loss += C*np.log(np.sum(np.exp(self.u))) \n",
        "    \n",
        "    self.i2w = ohe.i2w\n",
        "    self.wv_ = {self.i2w[i]:list(we) for i, we in enumerate(W1)}\n",
        "    self.word_vectors = W1\n",
        "\n",
        "    return self.wv_\n",
        "\n",
        "    pass\n",
        "\n",
        "  def _skipgram(self, docs, win_size = 2, embedding_size = 5, learning_rate = 0.001, epoch = 10) :\n",
        "    tokenized_docs = [d.split() for d in docs]\n",
        "    ohe = OneHotEncoder(tokenized_docs)\n",
        "    encoded_docs = ohe.encode(tokenized_docs)\n",
        "    \n",
        "    onehot_size = len(encoded_docs[0][0])\n",
        "    W1 = np.random.rand(onehot_size, embedding_size)\n",
        "    W2 = np.random.rand(embedding_size, onehot_size)\n",
        "\n",
        "    sliding_docs = self._slide_window(encoded_docs, win_size)\n",
        "    for i in tqdm(range(epoch), desc='word embedding') :\n",
        "      for d in  sliding_docs:\n",
        "        for center, context in d : \n",
        "          hidden = np.dot(center, W1)\n",
        "          predict = np.dot(hidden, W2)\n",
        "          W1, W2 = self._backpropagation(W1, W2, hidden, predict, center, context, learning_rate)\n",
        "      #self.loss += C*np.log(np.sum(np.exp(self.u))) \n",
        "    \n",
        "    self.i2w = ohe.i2w\n",
        "    self.wv_ = {self.i2w[i]:list(we) for i, we in enumerate(W1)}\n",
        "    self.word_vectors = W1\n",
        "\n",
        "    return self.wv_\n",
        "\n",
        "  def most_similar(self, word, n = 3) :\n",
        "    v = self.wv_[word]\n",
        "    similarity = np.dot(v, self.word_vectors.T)\n",
        "    return [(self.i2w[i], similarity[i], self.word_vectors[i]) for i in similarity.argsort()[::-1][:n]]\n",
        "\n",
        "  def visualize(self, word, n = 3) :\n",
        "    wvs = self.most_similar(word, n)\n",
        "\n",
        "    # 기본 글꼴 변경\n",
        "    mpl.font_manager._rebuild()\n",
        "    mpl.pyplot.rc('font', family='NanumBarunGothic')\n",
        "\n",
        "    words = [item[0] for item in wvs]\n",
        "    wvs = [item[2] for item in wvs]\n",
        "\n",
        "    tsne = TSNE(n_components=2, random_state=0, n_iter=10000, perplexity=2)\n",
        "    np.set_printoptions(suppress=True)\n",
        "    T = tsne.fit_transform(wvs)\n",
        "    labels = words\n",
        "\n",
        "    plt.figure(figsize=(14, 8))\n",
        "    plt.scatter(T[:, 0], T[:, 1], c='orange', edgecolors='r')\n",
        "    for label, x, y in zip(labels, T[:, 0], T[:, 1]):\n",
        "        plt.annotate(label, xy=(x+1, y+1), xytext=(0, 0), textcoords='offset points')\n"
      ],
      "execution_count": 234,
      "outputs": []
    },
    {
      "cell_type": "code",
      "metadata": {
        "id": "O6617dgo7HjO",
        "colab_type": "code",
        "colab": {
          "base_uri": "https://localhost:8080/",
          "height": 586,
          "referenced_widgets": [
            "2a4dc9c99ee64dab9f008121e49691e6",
            "d24b9934e4ca44219bb978c38c4d880d",
            "44305e4ff3be43aab890337f997467cc",
            "dbe81605fb50434699bddd2571c7c9ee",
            "0b025834a6444c558acef236ec097df2",
            "4de31bf71cc34238aa6f5222d7f746f6",
            "dd680c0ba7654f549a90d3baed952dc8",
            "2d60ab0c55644d43ae55c86cc5cc15b4"
          ]
        },
        "outputId": "57ad9839-b91c-4919-a496-6d3e30526048"
      },
      "source": [
        "sg = Word2Vec()\n",
        "wv = sg.embedding(docs, epoch=1000)\n",
        "print(sg.wv_['natural'])\n",
        "print(sg.most_similar('natural'))\n",
        "sg.visualize('natural', 8)"
      ],
      "execution_count": 240,
      "outputs": [
        {
          "output_type": "display_data",
          "data": {
            "application/vnd.jupyter.widget-view+json": {
              "model_id": "2a4dc9c99ee64dab9f008121e49691e6",
              "version_minor": 0,
              "version_major": 2
            },
            "text/plain": [
              "HBox(children=(FloatProgress(value=0.0, description='word embedding', max=1000.0, style=ProgressStyle(descript…"
            ]
          },
          "metadata": {
            "tags": []
          }
        },
        {
          "output_type": "stream",
          "text": [
            "\n",
            "[1.250159156640729, 1.065138734274704, 0.8562994463720589, -0.1972501419558638, 0.09394343797248639]\n",
            "[('natural', 3.478400170081771, array([ 1.25015916,  1.06513873,  0.85629945, -0.19725014,  0.09394344])), ('processing', 2.0986491331568984, array([ 0.26292627,  0.24684533,  2.00468317,  0.77712601, -0.59925366])), ('and', 1.8223322642887132, array([ 1.37802629,  0.40363571, -0.27603327,  0.56203842,  0.17969694]))]\n"
          ],
          "name": "stdout"
        },
        {
          "output_type": "display_data",
          "data": {
            "image/png": "[encoded data removed]",
            "text/plain": [
              "<Figure size 1008x576 with 1 Axes>"
            ]
          },
          "metadata": {
            "tags": [],
            "needs_background": "light"
          }
        }
      ]
    },
    {
      "cell_type": "code",
      "metadata": {
        "id": "E2TBZGZvQ71o",
        "colab_type": "code",
        "colab": {
          "base_uri": "https://localhost:8080/",
          "height": 232
        },
        "outputId": "72a61d1d-1180-4b2f-8bb9-b6850da33a2d"
      },
      "source": [
        "cbow = Word2Vec()\n",
        "wv = cbow.embedding(docs, method = 'cbow', epoch=1000)\n",
        "print(cbow.wv_['natural'])\n",
        "print(cbow.most_similar('natural'))\n",
        "cbow.visualize('natural', 8)"
      ],
      "execution_count": 241,
      "outputs": [
        {
          "output_type": "error",
          "ename": "AttributeError",
          "evalue": "ignored",
          "traceback": [
            "\u001b[0;31m---------------------------------------------------------------------------\u001b[0m",
            "\u001b[0;31mAttributeError\u001b[0m                            Traceback (most recent call last)",
            "\u001b[0;32m<ipython-input-241-b0df7cabe7d6>\u001b[0m in \u001b[0;36m<module>\u001b[0;34m()\u001b[0m\n\u001b[1;32m      1\u001b[0m \u001b[0msg\u001b[0m \u001b[0;34m=\u001b[0m \u001b[0mWord2Vec\u001b[0m\u001b[0;34m(\u001b[0m\u001b[0;34m)\u001b[0m\u001b[0;34m\u001b[0m\u001b[0;34m\u001b[0m\u001b[0m\n\u001b[1;32m      2\u001b[0m \u001b[0mwv\u001b[0m \u001b[0;34m=\u001b[0m \u001b[0msg\u001b[0m\u001b[0;34m.\u001b[0m\u001b[0membedding\u001b[0m\u001b[0;34m(\u001b[0m\u001b[0mdocs\u001b[0m\u001b[0;34m,\u001b[0m \u001b[0mmethod\u001b[0m \u001b[0;34m=\u001b[0m \u001b[0;34m'cbow'\u001b[0m\u001b[0;34m,\u001b[0m \u001b[0mepoch\u001b[0m\u001b[0;34m=\u001b[0m\u001b[0;36m1000\u001b[0m\u001b[0;34m)\u001b[0m\u001b[0;34m\u001b[0m\u001b[0;34m\u001b[0m\u001b[0m\n\u001b[0;32m----> 3\u001b[0;31m \u001b[0mprint\u001b[0m\u001b[0;34m(\u001b[0m\u001b[0msg\u001b[0m\u001b[0;34m.\u001b[0m\u001b[0mwv_\u001b[0m\u001b[0;34m[\u001b[0m\u001b[0;34m'natural'\u001b[0m\u001b[0;34m]\u001b[0m\u001b[0;34m)\u001b[0m\u001b[0;34m\u001b[0m\u001b[0;34m\u001b[0m\u001b[0m\n\u001b[0m\u001b[1;32m      4\u001b[0m \u001b[0mprint\u001b[0m\u001b[0;34m(\u001b[0m\u001b[0msg\u001b[0m\u001b[0;34m.\u001b[0m\u001b[0mmost_similar\u001b[0m\u001b[0;34m(\u001b[0m\u001b[0;34m'natural'\u001b[0m\u001b[0;34m)\u001b[0m\u001b[0;34m)\u001b[0m\u001b[0;34m\u001b[0m\u001b[0;34m\u001b[0m\u001b[0m\n\u001b[1;32m      5\u001b[0m \u001b[0msg\u001b[0m\u001b[0;34m.\u001b[0m\u001b[0mvisualize\u001b[0m\u001b[0;34m(\u001b[0m\u001b[0;34m'natural'\u001b[0m\u001b[0;34m,\u001b[0m \u001b[0;36m8\u001b[0m\u001b[0;34m)\u001b[0m\u001b[0;34m\u001b[0m\u001b[0;34m\u001b[0m\u001b[0m\n",
            "\u001b[0;31mAttributeError\u001b[0m: 'Word2Vec' object has no attribute 'wv_'"
          ]
        }
      ]
    },
    {
      "cell_type": "markdown",
      "metadata": {
        "id": "xuU3kR71SBmH",
        "colab_type": "text"
      },
      "source": [
        "##1.2 gensim Word2Vec"
      ]
    },
    {
      "cell_type": "code",
      "metadata": {
        "id": "93IY0BqrSD7K",
        "colab_type": "code",
        "colab": {}
      },
      "source": [
        "from gensim.models import Word2Vec\n",
        "\n",
        "word2vec = Word2Vec(\n",
        "    sentences = [d.split() for d in docs],  # 학습시킬 문장\n",
        "    size = 5,                  # 임베딩된 단어 벡터의 차원 크기\n",
        "    alpha = 0.01,               # 학습률(Learning rate)\n",
        "    min_count=2,                 # 2번 미만 등장한 단어는 제외\n",
        "    window = 2,                  # 문맥의 크기 (window_size)\n",
        "    sample = 0.001,              # sub-sampling\n",
        "    sg = 1,                      # 0: CBOW, 1: Skip-gram\n",
        "    iter = 10                    # 전체 문장 반복학습 횟수(epoch)\n",
        "    )"
      ],
      "execution_count": 219,
      "outputs": []
    },
    {
      "cell_type": "code",
      "metadata": {
        "id": "c0IKzvp9Tcvo",
        "colab_type": "code",
        "colab": {
          "base_uri": "https://localhost:8080/",
          "height": 51
        },
        "outputId": "0a9ca722-18f2-45f7-8a01-e5c5d43f1a87"
      },
      "source": [
        "word2vec.wv.__getitem__('natural')"
      ],
      "execution_count": 220,
      "outputs": [
        {
          "output_type": "execute_result",
          "data": {
            "text/plain": [
              "array([-0.01871337, -0.08533629,  0.07540572, -0.03936454,  0.00377927],\n",
              "      dtype=float32)"
            ]
          },
          "metadata": {
            "tags": []
          },
          "execution_count": 220
        }
      ]
    },
    {
      "cell_type": "code",
      "metadata": {
        "id": "oku_pq8dSHT5",
        "colab_type": "code",
        "colab": {
          "base_uri": "https://localhost:8080/",
          "height": 156
        },
        "outputId": "960a30df-e5d6-4631-df60-abd44249673a"
      },
      "source": [
        "word2vec.wv.most_similar('natural')"
      ],
      "execution_count": 221,
      "outputs": [
        {
          "output_type": "stream",
          "text": [
            "/usr/local/lib/python3.6/dist-packages/gensim/matutils.py:737: FutureWarning: Conversion of the second argument of issubdtype from `int` to `np.signedinteger` is deprecated. In future, it will be treated as `np.int64 == np.dtype(int).type`.\n",
            "  if np.issubdtype(vec.dtype, np.int):\n"
          ],
          "name": "stderr"
        },
        {
          "output_type": "execute_result",
          "data": {
            "text/plain": [
              "[('and', 0.13754040002822876),\n",
              " ('machine', 0.06119634956121445),\n",
              " ('processing', -0.027662862092256546),\n",
              " ('language', -0.5173978805541992),\n",
              " ('learning', -0.6756094098091125)]"
            ]
          },
          "metadata": {
            "tags": []
          },
          "execution_count": 221
        }
      ]
    },
    {
      "cell_type": "code",
      "metadata": {
        "id": "YnUOZDBfUEAH",
        "colab_type": "code",
        "colab": {
          "base_uri": "https://localhost:8080/",
          "height": 68
        },
        "outputId": "062b2d8d-c86f-431f-ecb8-0f8e98d67d66"
      },
      "source": [
        "word2vec.wv[['natural','and']]"
      ],
      "execution_count": 226,
      "outputs": [
        {
          "output_type": "execute_result",
          "data": {
            "text/plain": [
              "array([[-0.01871337, -0.08533629,  0.07540572, -0.03936454,  0.00377927],\n",
              "       [ 0.04233906, -0.0142344 , -0.03197954, -0.09676962,  0.02978341]],\n",
              "      dtype=float32)"
            ]
          },
          "metadata": {
            "tags": []
          },
          "execution_count": 226
        }
      ]
    },
    {
      "cell_type": "markdown",
      "metadata": {
        "id": "K10PE99rSEa7",
        "colab_type": "text"
      },
      "source": [
        "##1.3 Tensorflow Word2Vec"
      ]
    },
    {
      "cell_type": "code",
      "metadata": {
        "id": "WcKgq9zDTmgy",
        "colab_type": "code",
        "colab": {}
      },
      "source": [
        ""
      ],
      "execution_count": null,
      "outputs": []
    }
  ]
}