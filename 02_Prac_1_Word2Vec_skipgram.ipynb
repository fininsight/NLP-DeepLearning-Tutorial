{
  "nbformat": 4,
  "nbformat_minor": 0,
  "metadata": {
    "colab": {
      "name": "02 Prac 1. Word2Vec - skipgram.ipynb",
      "provenance": [],
      "collapsed_sections": [],
      "toc_visible": true,
      "authorship_tag": "ABX9TyNaCDdcetUb9oKV04GmmILb",
      "include_colab_link": true
    },
    "kernelspec": {
      "name": "python3",
      "display_name": "Python 3"
    },
    "widgets": {
      "application/vnd.jupyter.widget-state+json": {
        "3528ca4680d4463fb5bfd21d57dc128e": {
          "model_module": "@jupyter-widgets/controls",
          "model_name": "HBoxModel",
          "state": {
            "_view_name": "HBoxView",
            "_dom_classes": [],
            "_model_name": "HBoxModel",
            "_view_module": "@jupyter-widgets/controls",
            "_model_module_version": "1.5.0",
            "_view_count": null,
            "_view_module_version": "1.5.0",
            "box_style": "",
            "layout": "IPY_MODEL_f0736854c1804a8390a54a840dd5d1a4",
            "_model_module": "@jupyter-widgets/controls",
            "children": [
              "IPY_MODEL_ea90568e733c4d7d9a01da67dc95debc",
              "IPY_MODEL_3be31948755b4dddbf222f9e791187cd"
            ]
          }
        },
        "f0736854c1804a8390a54a840dd5d1a4": {
          "model_module": "@jupyter-widgets/base",
          "model_name": "LayoutModel",
          "state": {
            "_view_name": "LayoutView",
            "grid_template_rows": null,
            "right": null,
            "justify_content": null,
            "_view_module": "@jupyter-widgets/base",
            "overflow": null,
            "_model_module_version": "1.2.0",
            "_view_count": null,
            "flex_flow": null,
            "width": null,
            "min_width": null,
            "border": null,
            "align_items": null,
            "bottom": null,
            "_model_module": "@jupyter-widgets/base",
            "top": null,
            "grid_column": null,
            "overflow_y": null,
            "overflow_x": null,
            "grid_auto_flow": null,
            "grid_area": null,
            "grid_template_columns": null,
            "flex": null,
            "_model_name": "LayoutModel",
            "justify_items": null,
            "grid_row": null,
            "max_height": null,
            "align_content": null,
            "visibility": null,
            "align_self": null,
            "height": null,
            "min_height": null,
            "padding": null,
            "grid_auto_rows": null,
            "grid_gap": null,
            "max_width": null,
            "order": null,
            "_view_module_version": "1.2.0",
            "grid_template_areas": null,
            "object_position": null,
            "object_fit": null,
            "grid_auto_columns": null,
            "margin": null,
            "display": null,
            "left": null
          }
        },
        "ea90568e733c4d7d9a01da67dc95debc": {
          "model_module": "@jupyter-widgets/controls",
          "model_name": "FloatProgressModel",
          "state": {
            "_view_name": "ProgressView",
            "style": "IPY_MODEL_9adf8887f553404592cd83360d0d79a0",
            "_dom_classes": [],
            "description": "word embedding: 100%",
            "_model_name": "FloatProgressModel",
            "bar_style": "success",
            "max": 10000,
            "_view_module": "@jupyter-widgets/controls",
            "_model_module_version": "1.5.0",
            "value": 10000,
            "_view_count": null,
            "_view_module_version": "1.5.0",
            "orientation": "horizontal",
            "min": 0,
            "description_tooltip": null,
            "_model_module": "@jupyter-widgets/controls",
            "layout": "IPY_MODEL_74c63861b86f4f3cb82b18ee1eb14c3b"
          }
        },
        "3be31948755b4dddbf222f9e791187cd": {
          "model_module": "@jupyter-widgets/controls",
          "model_name": "HTMLModel",
          "state": {
            "_view_name": "HTMLView",
            "style": "IPY_MODEL_8dfbebf887724addbd34aad84a4ee0cd",
            "_dom_classes": [],
            "description": "",
            "_model_name": "HTMLModel",
            "placeholder": "​",
            "_view_module": "@jupyter-widgets/controls",
            "_model_module_version": "1.5.0",
            "value": " 10000/10000 [00:09&lt;00:00, 1043.57it/s]",
            "_view_count": null,
            "_view_module_version": "1.5.0",
            "description_tooltip": null,
            "_model_module": "@jupyter-widgets/controls",
            "layout": "IPY_MODEL_8e2dd3ef483a4642842644006834713b"
          }
        },
        "9adf8887f553404592cd83360d0d79a0": {
          "model_module": "@jupyter-widgets/controls",
          "model_name": "ProgressStyleModel",
          "state": {
            "_view_name": "StyleView",
            "_model_name": "ProgressStyleModel",
            "description_width": "initial",
            "_view_module": "@jupyter-widgets/base",
            "_model_module_version": "1.5.0",
            "_view_count": null,
            "_view_module_version": "1.2.0",
            "bar_color": null,
            "_model_module": "@jupyter-widgets/controls"
          }
        },
        "74c63861b86f4f3cb82b18ee1eb14c3b": {
          "model_module": "@jupyter-widgets/base",
          "model_name": "LayoutModel",
          "state": {
            "_view_name": "LayoutView",
            "grid_template_rows": null,
            "right": null,
            "justify_content": null,
            "_view_module": "@jupyter-widgets/base",
            "overflow": null,
            "_model_module_version": "1.2.0",
            "_view_count": null,
            "flex_flow": null,
            "width": null,
            "min_width": null,
            "border": null,
            "align_items": null,
            "bottom": null,
            "_model_module": "@jupyter-widgets/base",
            "top": null,
            "grid_column": null,
            "overflow_y": null,
            "overflow_x": null,
            "grid_auto_flow": null,
            "grid_area": null,
            "grid_template_columns": null,
            "flex": null,
            "_model_name": "LayoutModel",
            "justify_items": null,
            "grid_row": null,
            "max_height": null,
            "align_content": null,
            "visibility": null,
            "align_self": null,
            "height": null,
            "min_height": null,
            "padding": null,
            "grid_auto_rows": null,
            "grid_gap": null,
            "max_width": null,
            "order": null,
            "_view_module_version": "1.2.0",
            "grid_template_areas": null,
            "object_position": null,
            "object_fit": null,
            "grid_auto_columns": null,
            "margin": null,
            "display": null,
            "left": null
          }
        },
        "8dfbebf887724addbd34aad84a4ee0cd": {
          "model_module": "@jupyter-widgets/controls",
          "model_name": "DescriptionStyleModel",
          "state": {
            "_view_name": "StyleView",
            "_model_name": "DescriptionStyleModel",
            "description_width": "",
            "_view_module": "@jupyter-widgets/base",
            "_model_module_version": "1.5.0",
            "_view_count": null,
            "_view_module_version": "1.2.0",
            "_model_module": "@jupyter-widgets/controls"
          }
        },
        "8e2dd3ef483a4642842644006834713b": {
          "model_module": "@jupyter-widgets/base",
          "model_name": "LayoutModel",
          "state": {
            "_view_name": "LayoutView",
            "grid_template_rows": null,
            "right": null,
            "justify_content": null,
            "_view_module": "@jupyter-widgets/base",
            "overflow": null,
            "_model_module_version": "1.2.0",
            "_view_count": null,
            "flex_flow": null,
            "width": null,
            "min_width": null,
            "border": null,
            "align_items": null,
            "bottom": null,
            "_model_module": "@jupyter-widgets/base",
            "top": null,
            "grid_column": null,
            "overflow_y": null,
            "overflow_x": null,
            "grid_auto_flow": null,
            "grid_area": null,
            "grid_template_columns": null,
            "flex": null,
            "_model_name": "LayoutModel",
            "justify_items": null,
            "grid_row": null,
            "max_height": null,
            "align_content": null,
            "visibility": null,
            "align_self": null,
            "height": null,
            "min_height": null,
            "padding": null,
            "grid_auto_rows": null,
            "grid_gap": null,
            "max_width": null,
            "order": null,
            "_view_module_version": "1.2.0",
            "grid_template_areas": null,
            "object_position": null,
            "object_fit": null,
            "grid_auto_columns": null,
            "margin": null,
            "display": null,
            "left": null
          }
        }
      }
    }
  },
  "cells": [
    {
      "cell_type": "markdown",
      "metadata": {
        "id": "view-in-github",
        "colab_type": "text"
      },
      "source": [
        "<a href=\"https://colab.research.google.com/github/fininsight/nlp-deeplearning-tutorial/blob/master/02_Prac_1_Word2Vec_skipgram.ipynb\" target=\"_parent\"><img src=\"https://colab.research.google.com/assets/colab-badge.svg\" alt=\"Open In Colab\"/></a>"
      ]
    },
    {
      "cell_type": "markdown",
      "metadata": {
        "id": "mEg0-L6s_3wS",
        "colab_type": "text"
      },
      "source": [
        "#Word Embedding"
      ]
    },
    {
      "cell_type": "markdown",
      "metadata": {
        "id": "dijqDawl_9eJ",
        "colab_type": "text"
      },
      "source": [
        "#1 Word2Vec"
      ]
    },
    {
      "cell_type": "markdown",
      "metadata": {
        "id": "0-18xOwVAAF-",
        "colab_type": "text"
      },
      "source": [
        "##1.1 Skip-gram 직접구현"
      ]
    },
    {
      "cell_type": "code",
      "metadata": {
        "id": "YA-gZmHA_xQQ",
        "colab_type": "code",
        "colab": {}
      },
      "source": [
        "docs = [\"natural language processing and machine learning is fun and exciting\",\n",
        "        \"natural language processing and machine learning\"]"
      ],
      "execution_count": 141,
      "outputs": []
    },
    {
      "cell_type": "code",
      "metadata": {
        "id": "F9zj1XGtAJAq",
        "colab_type": "code",
        "colab": {}
      },
      "source": [
        "from collections import defaultdict\n",
        "import numpy as np \n",
        "\n",
        "class OneHotEncoder() :\n",
        "  def __init__(self, docs) :\n",
        "    # 고유 단어와 인덱스를 매칭시켜주는 사전 생성\n",
        "    self.w2i = defaultdict(lambda:len(self.w2i))\n",
        "    [self.w2i[w] for d in docs for w in d]\n",
        "    self.i2w = {v:k for k,v in self.w2i.items()}\n",
        "\n",
        "  def _get_one_hot_vector(self, w):\n",
        "    v = [0]*len(self.w2i)\n",
        "    v[self.w2i[w]] = 1\n",
        "    return v\n",
        "\n",
        "  def encode(self, docs) :\n",
        "    ret = []\n",
        "    for d in docs :\n",
        "      tmp = []\n",
        "      for w in d :\n",
        "        tmp.append(self._get_one_hot_vector(w))\n",
        "      ret.append(tmp)\n",
        "    return ret\n",
        "\n",
        "  def decode(self, v) :\n",
        "    return self.i2w[v.index(1)]"
      ],
      "execution_count": 142,
      "outputs": []
    },
    {
      "cell_type": "markdown",
      "metadata": {
        "id": "6qru8FFY-sba",
        "colab_type": "text"
      },
      "source": [
        "![대체 텍스트](https://miro.medium.com/max/1400/1*uuVrJhSF89KGJPltvJ4xhg.png)"
      ]
    },
    {
      "cell_type": "code",
      "metadata": {
        "id": "FX0iaQkFBtx2",
        "colab_type": "code",
        "colab": {}
      },
      "source": [
        "import numpy as np\n",
        "from sklearn.manifold import TSNE\n",
        "from tqdm.notebook import tqdm as tqdm\n",
        "import matplotlib as mpl\n",
        "import matplotlib.pyplot as plt\n",
        "\n",
        "class Word2Vec() :\n",
        "  def __iniit__(self):\n",
        "    pass\n",
        "\n",
        "  def _slide_window(self, encoded_docs, win_size = 2) :\n",
        "    ret = []\n",
        "\n",
        "    for d in encoded_docs : \n",
        "      win_doc = []\n",
        "      for i, w in enumerate(d) :\n",
        "        s, e = max(0, i - win_size), min(len(d), i + win_size)\n",
        "        context = d[s:e+1]\n",
        "        center = context.pop(i-s)\n",
        "        win_doc.append((center, context))\n",
        "      ret.append(win_doc)\n",
        "    return ret\n",
        "\n",
        "  def _softmax(self, output) :\n",
        "    return np.exp(output) / np.sum(np.exp(output))\n",
        "\n",
        "  #SGD to backpropagate errors \n",
        "  def _backpropagation(self, W1, W2, hidden, predict, center, context, learning_rate) :\n",
        "      err = (self._softmax(predict) - context).sum(axis=0)\n",
        "\n",
        "      delta_W2 = np.outer(hidden, err)\n",
        "      delta_W1 = np.outer(center, np.dot(W2, err))\n",
        "\n",
        "      W1 = W1 - learning_rate * delta_W1\n",
        "      W2 = W2 - learning_rate * delta_W2\n",
        "\n",
        "      return W1, W2\n",
        "\n",
        "  def embedding(self, docs, method = 'sg', win_size = 2, embedding_size = 5, learning_rate = 0.001, epoch = 10 ) :\n",
        "    if method == 'sg' :\n",
        "      return self._skipgram(docs, win_size, embedding_size, learning_rate, epoch)\n",
        "    elif method == 'cbow' :\n",
        "      return self._cbow(docs, win_size, embedding_size, learning_rate, epoch)\n",
        "\n",
        "  def _cbow(self, docs, win_size = 2, embedding_size = 5, learning_rate = 0.001, epoch = 10) :\n",
        "    pass\n",
        "\n",
        "  def _skipgram(self, docs, win_size = 2, embedding_size = 5, learning_rate = 0.001, epoch = 10) :\n",
        "    tokenized_docs = [d.split() for d in docs]\n",
        "    ohe = OneHotEncoder(tokenized_docs)\n",
        "    encoded_docs = ohe.encode(tokenized_docs)\n",
        "    \n",
        "    onehot_size = len(encoded_docs[0][0])\n",
        "    W1 = np.random.rand(onehot_size, embedding_size)\n",
        "    W2 = np.random.rand(embedding_size, onehot_size)\n",
        "\n",
        "    sliding_docs = self._slide_window(encoded_docs, win_size)\n",
        "    for i in tqdm(range(epoch), desc='word embedding') :\n",
        "      for d in  sliding_docs:\n",
        "        for center, context in d : \n",
        "          hidden = np.dot(center, W1)\n",
        "          predict = np.dot(hidden, W2)\n",
        "          W1, W2 = self._backpropagation(W1, W2, hidden, predict, center, context, learning_rate)\n",
        "      #self.loss += C*np.log(np.sum(np.exp(self.u))) \n",
        "    \n",
        "    self.i2w = ohe.i2w\n",
        "    self.wv_ = {self.i2w[i]:list(we) for i, we in enumerate(W1)}\n",
        "    self.word_vectors = W1\n",
        "\n",
        "    return self.wv_\n",
        "\n",
        "  def most_similar(self, word, n = 3) :\n",
        "    v = self.wv_[word]\n",
        "    similarity = np.dot(v, self.word_vectors.T)\n",
        "    return [(self.i2w[i], similarity[i], self.word_vectors[i]) for i in similarity.argsort()[::-1][:n]]\n",
        "\n",
        "  def visualize(self, word, n = 3) :\n",
        "    wvs = self.most_similar(word, n)\n",
        "\n",
        "    # 기본 글꼴 변경\n",
        "    mpl.font_manager._rebuild()\n",
        "    mpl.pyplot.rc('font', family='NanumBarunGothic')\n",
        "\n",
        "    words = [item[0] for item in wvs]\n",
        "    wvs = [item[2] for item in wvs]\n",
        "\n",
        "    tsne = TSNE(n_components=2, random_state=0, n_iter=10000, perplexity=2)\n",
        "    np.set_printoptions(suppress=True)\n",
        "    T = tsne.fit_transform(wvs)\n",
        "    labels = words\n",
        "\n",
        "    plt.figure(figsize=(14, 8))\n",
        "    plt.scatter(T[:, 0], T[:, 1], c='orange', edgecolors='r')\n",
        "    for label, x, y in zip(labels, T[:, 0], T[:, 1]):\n",
        "        plt.annotate(label, xy=(x+1, y+1), xytext=(0, 0), textcoords='offset points')\n"
      ],
      "execution_count": 234,
      "outputs": []
    },
    {
      "cell_type": "code",
      "metadata": {
        "id": "O6617dgo7HjO",
        "colab_type": "code",
        "colab": {
          "base_uri": "https://localhost:8080/",
          "height": 66,
          "referenced_widgets": [
            "3528ca4680d4463fb5bfd21d57dc128e",
            "f0736854c1804a8390a54a840dd5d1a4",
            "ea90568e733c4d7d9a01da67dc95debc",
            "3be31948755b4dddbf222f9e791187cd",
            "9adf8887f553404592cd83360d0d79a0",
            "74c63861b86f4f3cb82b18ee1eb14c3b",
            "8dfbebf887724addbd34aad84a4ee0cd",
            "8e2dd3ef483a4642842644006834713b"
          ]
        },
        "outputId": "5dbf9c97-eb97-46f0-f6a4-035f5e28af56"
      },
      "source": [
        "sg = Word2Vec()\n",
        "wv = sg.embedding(docs, epoch=10000)"
      ],
      "execution_count": 237,
      "outputs": [
        {
          "output_type": "display_data",
          "data": {
            "application/vnd.jupyter.widget-view+json": {
              "model_id": "3528ca4680d4463fb5bfd21d57dc128e",
              "version_minor": 0,
              "version_major": 2
            },
            "text/plain": [
              "HBox(children=(FloatProgress(value=0.0, description='word embedding', max=10000.0, style=ProgressStyle(descrip…"
            ]
          },
          "metadata": {
            "tags": []
          }
        },
        {
          "output_type": "stream",
          "text": [
            "\n"
          ],
          "name": "stdout"
        }
      ]
    },
    {
      "cell_type": "code",
      "metadata": {
        "id": "E2TBZGZvQ71o",
        "colab_type": "code",
        "colab": {
          "base_uri": "https://localhost:8080/",
          "height": 443
        },
        "outputId": "b001103c-2632-4d4d-8b2d-60659b8992df"
      },
      "source": [
        "print(sg.wv_['natural'])\n",
        "sg.most_similar('natural')\n",
        "\n",
        "sg.visualize('natural', 8)\n",
        "#sg.most_similar(sg.wv_['natural'] - sg.wv_['and'] + sg.wv_['is'])"
      ],
      "execution_count": 238,
      "outputs": [
        {
          "output_type": "stream",
          "text": [
            "[1.3290378445914162, 0.7060333845821565, 1.0140836793007342, 2.1095311622450628, -1.696324767654339]\n"
          ],
          "name": "stdout"
        },
        {
          "output_type": "display_data",
          "data": {
            "image/png": "[encoded data removed]",
            "text/plain": [
              "<Figure size 1008x576 with 1 Axes>"
            ]
          },
          "metadata": {
            "tags": [],
            "needs_background": "light"
          }
        }
      ]
    },
    {
      "cell_type": "markdown",
      "metadata": {
        "id": "xuU3kR71SBmH",
        "colab_type": "text"
      },
      "source": [
        "##1.2 gensim Word2Vec"
      ]
    },
    {
      "cell_type": "code",
      "metadata": {
        "id": "93IY0BqrSD7K",
        "colab_type": "code",
        "colab": {}
      },
      "source": [
        "from gensim.models import Word2Vec\n",
        "\n",
        "word2vec = Word2Vec(\n",
        "    sentences = [d.split() for d in docs],  # 학습시킬 문장\n",
        "    size = 5,                  # 임베딩된 단어 벡터의 차원 크기\n",
        "    alpha = 0.01,               # 학습률(Learning rate)\n",
        "    min_count=2,                 # 2번 미만 등장한 단어는 제외\n",
        "    window = 2,                  # 문맥의 크기 (window_size)\n",
        "    sample = 0.001,              # sub-sampling\n",
        "    sg = 1,                      # 0: CBOW, 1: Skip-gram\n",
        "    iter = 10                    # 전체 문장 반복학습 횟수(epoch)\n",
        "    )"
      ],
      "execution_count": 219,
      "outputs": []
    },
    {
      "cell_type": "code",
      "metadata": {
        "id": "c0IKzvp9Tcvo",
        "colab_type": "code",
        "colab": {
          "base_uri": "https://localhost:8080/",
          "height": 51
        },
        "outputId": "0a9ca722-18f2-45f7-8a01-e5c5d43f1a87"
      },
      "source": [
        "word2vec.wv.__getitem__('natural')"
      ],
      "execution_count": 220,
      "outputs": [
        {
          "output_type": "execute_result",
          "data": {
            "text/plain": [
              "array([-0.01871337, -0.08533629,  0.07540572, -0.03936454,  0.00377927],\n",
              "      dtype=float32)"
            ]
          },
          "metadata": {
            "tags": []
          },
          "execution_count": 220
        }
      ]
    },
    {
      "cell_type": "code",
      "metadata": {
        "id": "oku_pq8dSHT5",
        "colab_type": "code",
        "colab": {
          "base_uri": "https://localhost:8080/",
          "height": 156
        },
        "outputId": "960a30df-e5d6-4631-df60-abd44249673a"
      },
      "source": [
        "word2vec.wv.most_similar('natural')"
      ],
      "execution_count": 221,
      "outputs": [
        {
          "output_type": "stream",
          "text": [
            "/usr/local/lib/python3.6/dist-packages/gensim/matutils.py:737: FutureWarning: Conversion of the second argument of issubdtype from `int` to `np.signedinteger` is deprecated. In future, it will be treated as `np.int64 == np.dtype(int).type`.\n",
            "  if np.issubdtype(vec.dtype, np.int):\n"
          ],
          "name": "stderr"
        },
        {
          "output_type": "execute_result",
          "data": {
            "text/plain": [
              "[('and', 0.13754040002822876),\n",
              " ('machine', 0.06119634956121445),\n",
              " ('processing', -0.027662862092256546),\n",
              " ('language', -0.5173978805541992),\n",
              " ('learning', -0.6756094098091125)]"
            ]
          },
          "metadata": {
            "tags": []
          },
          "execution_count": 221
        }
      ]
    },
    {
      "cell_type": "code",
      "metadata": {
        "id": "YnUOZDBfUEAH",
        "colab_type": "code",
        "colab": {
          "base_uri": "https://localhost:8080/",
          "height": 68
        },
        "outputId": "062b2d8d-c86f-431f-ecb8-0f8e98d67d66"
      },
      "source": [
        "word2vec.wv[['natural','and']]"
      ],
      "execution_count": 226,
      "outputs": [
        {
          "output_type": "execute_result",
          "data": {
            "text/plain": [
              "array([[-0.01871337, -0.08533629,  0.07540572, -0.03936454,  0.00377927],\n",
              "       [ 0.04233906, -0.0142344 , -0.03197954, -0.09676962,  0.02978341]],\n",
              "      dtype=float32)"
            ]
          },
          "metadata": {
            "tags": []
          },
          "execution_count": 226
        }
      ]
    },
    {
      "cell_type": "markdown",
      "metadata": {
        "id": "K10PE99rSEa7",
        "colab_type": "text"
      },
      "source": [
        "##1.3 Tensorflow Word2Vec"
      ]
    },
    {
      "cell_type": "code",
      "metadata": {
        "id": "WcKgq9zDTmgy",
        "colab_type": "code",
        "colab": {}
      },
      "source": [
        ""
      ],
      "execution_count": null,
      "outputs": []
    }
  ]
}