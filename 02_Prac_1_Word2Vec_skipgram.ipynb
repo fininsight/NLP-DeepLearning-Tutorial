{
  "nbformat": 4,
  "nbformat_minor": 0,
  "metadata": {
    "colab": {
      "name": "02 Prac 1. Word2Vec - skipgram.ipynb",
      "provenance": [],
      "collapsed_sections": [],
      "authorship_tag": "ABX9TyMYD9wLs800RpP4pUC7T8Dz",
      "include_colab_link": true
    },
    "kernelspec": {
      "name": "python3",
      "display_name": "Python 3"
    },
    "widgets": {
      "application/vnd.jupyter.widget-state+json": {
        "64cde0616e8d49a587691e00ce08cc90": {
          "model_module": "@jupyter-widgets/controls",
          "model_name": "HBoxModel",
          "state": {
            "_view_name": "HBoxView",
            "_dom_classes": [],
            "_model_name": "HBoxModel",
            "_view_module": "@jupyter-widgets/controls",
            "_model_module_version": "1.5.0",
            "_view_count": null,
            "_view_module_version": "1.5.0",
            "box_style": "",
            "layout": "IPY_MODEL_1df2fa008280462b85cbf0a7fbee87ad",
            "_model_module": "@jupyter-widgets/controls",
            "children": [
              "IPY_MODEL_2ed023b1e8774e6ea714e45bdcb5426a",
              "IPY_MODEL_0e3b2532d7f94bf585d8d13929a1e60e"
            ]
          }
        },
        "1df2fa008280462b85cbf0a7fbee87ad": {
          "model_module": "@jupyter-widgets/base",
          "model_name": "LayoutModel",
          "state": {
            "_view_name": "LayoutView",
            "grid_template_rows": null,
            "right": null,
            "justify_content": null,
            "_view_module": "@jupyter-widgets/base",
            "overflow": null,
            "_model_module_version": "1.2.0",
            "_view_count": null,
            "flex_flow": null,
            "width": null,
            "min_width": null,
            "border": null,
            "align_items": null,
            "bottom": null,
            "_model_module": "@jupyter-widgets/base",
            "top": null,
            "grid_column": null,
            "overflow_y": null,
            "overflow_x": null,
            "grid_auto_flow": null,
            "grid_area": null,
            "grid_template_columns": null,
            "flex": null,
            "_model_name": "LayoutModel",
            "justify_items": null,
            "grid_row": null,
            "max_height": null,
            "align_content": null,
            "visibility": null,
            "align_self": null,
            "height": null,
            "min_height": null,
            "padding": null,
            "grid_auto_rows": null,
            "grid_gap": null,
            "max_width": null,
            "order": null,
            "_view_module_version": "1.2.0",
            "grid_template_areas": null,
            "object_position": null,
            "object_fit": null,
            "grid_auto_columns": null,
            "margin": null,
            "display": null,
            "left": null
          }
        },
        "2ed023b1e8774e6ea714e45bdcb5426a": {
          "model_module": "@jupyter-widgets/controls",
          "model_name": "FloatProgressModel",
          "state": {
            "_view_name": "ProgressView",
            "style": "IPY_MODEL_b6a5a160fa7a42ffb22a78b9dea3e931",
            "_dom_classes": [],
            "description": "word embedding: 100%",
            "_model_name": "FloatProgressModel",
            "bar_style": "success",
            "max": 1000,
            "_view_module": "@jupyter-widgets/controls",
            "_model_module_version": "1.5.0",
            "value": 1000,
            "_view_count": null,
            "_view_module_version": "1.5.0",
            "orientation": "horizontal",
            "min": 0,
            "description_tooltip": null,
            "_model_module": "@jupyter-widgets/controls",
            "layout": "IPY_MODEL_61801d42d60d494595b3d4ded9cd4959"
          }
        },
        "0e3b2532d7f94bf585d8d13929a1e60e": {
          "model_module": "@jupyter-widgets/controls",
          "model_name": "HTMLModel",
          "state": {
            "_view_name": "HTMLView",
            "style": "IPY_MODEL_3f3de8e349ec48b0800612d1a0d9419d",
            "_dom_classes": [],
            "description": "",
            "_model_name": "HTMLModel",
            "placeholder": "​",
            "_view_module": "@jupyter-widgets/controls",
            "_model_module_version": "1.5.0",
            "value": " 1000/1000 [00:01&lt;00:00, 970.55it/s]",
            "_view_count": null,
            "_view_module_version": "1.5.0",
            "description_tooltip": null,
            "_model_module": "@jupyter-widgets/controls",
            "layout": "IPY_MODEL_911d359a902d4d33bea705066cbd6f6e"
          }
        },
        "b6a5a160fa7a42ffb22a78b9dea3e931": {
          "model_module": "@jupyter-widgets/controls",
          "model_name": "ProgressStyleModel",
          "state": {
            "_view_name": "StyleView",
            "_model_name": "ProgressStyleModel",
            "description_width": "initial",
            "_view_module": "@jupyter-widgets/base",
            "_model_module_version": "1.5.0",
            "_view_count": null,
            "_view_module_version": "1.2.0",
            "bar_color": null,
            "_model_module": "@jupyter-widgets/controls"
          }
        },
        "61801d42d60d494595b3d4ded9cd4959": {
          "model_module": "@jupyter-widgets/base",
          "model_name": "LayoutModel",
          "state": {
            "_view_name": "LayoutView",
            "grid_template_rows": null,
            "right": null,
            "justify_content": null,
            "_view_module": "@jupyter-widgets/base",
            "overflow": null,
            "_model_module_version": "1.2.0",
            "_view_count": null,
            "flex_flow": null,
            "width": null,
            "min_width": null,
            "border": null,
            "align_items": null,
            "bottom": null,
            "_model_module": "@jupyter-widgets/base",
            "top": null,
            "grid_column": null,
            "overflow_y": null,
            "overflow_x": null,
            "grid_auto_flow": null,
            "grid_area": null,
            "grid_template_columns": null,
            "flex": null,
            "_model_name": "LayoutModel",
            "justify_items": null,
            "grid_row": null,
            "max_height": null,
            "align_content": null,
            "visibility": null,
            "align_self": null,
            "height": null,
            "min_height": null,
            "padding": null,
            "grid_auto_rows": null,
            "grid_gap": null,
            "max_width": null,
            "order": null,
            "_view_module_version": "1.2.0",
            "grid_template_areas": null,
            "object_position": null,
            "object_fit": null,
            "grid_auto_columns": null,
            "margin": null,
            "display": null,
            "left": null
          }
        },
        "3f3de8e349ec48b0800612d1a0d9419d": {
          "model_module": "@jupyter-widgets/controls",
          "model_name": "DescriptionStyleModel",
          "state": {
            "_view_name": "StyleView",
            "_model_name": "DescriptionStyleModel",
            "description_width": "",
            "_view_module": "@jupyter-widgets/base",
            "_model_module_version": "1.5.0",
            "_view_count": null,
            "_view_module_version": "1.2.0",
            "_model_module": "@jupyter-widgets/controls"
          }
        },
        "911d359a902d4d33bea705066cbd6f6e": {
          "model_module": "@jupyter-widgets/base",
          "model_name": "LayoutModel",
          "state": {
            "_view_name": "LayoutView",
            "grid_template_rows": null,
            "right": null,
            "justify_content": null,
            "_view_module": "@jupyter-widgets/base",
            "overflow": null,
            "_model_module_version": "1.2.0",
            "_view_count": null,
            "flex_flow": null,
            "width": null,
            "min_width": null,
            "border": null,
            "align_items": null,
            "bottom": null,
            "_model_module": "@jupyter-widgets/base",
            "top": null,
            "grid_column": null,
            "overflow_y": null,
            "overflow_x": null,
            "grid_auto_flow": null,
            "grid_area": null,
            "grid_template_columns": null,
            "flex": null,
            "_model_name": "LayoutModel",
            "justify_items": null,
            "grid_row": null,
            "max_height": null,
            "align_content": null,
            "visibility": null,
            "align_self": null,
            "height": null,
            "min_height": null,
            "padding": null,
            "grid_auto_rows": null,
            "grid_gap": null,
            "max_width": null,
            "order": null,
            "_view_module_version": "1.2.0",
            "grid_template_areas": null,
            "object_position": null,
            "object_fit": null,
            "grid_auto_columns": null,
            "margin": null,
            "display": null,
            "left": null
          }
        }
      }
    }
  },
  "cells": [
    {
      "cell_type": "markdown",
      "metadata": {
        "id": "view-in-github",
        "colab_type": "text"
      },
      "source": [
        "<a href=\"https://colab.research.google.com/github/fininsight/nlp-deeplearning-tutorial/blob/master/02_Prac_1_Word2Vec_skipgram.ipynb\" target=\"_parent\"><img src=\"https://colab.research.google.com/assets/colab-badge.svg\" alt=\"Open In Colab\"/></a>"
      ]
    },
    {
      "cell_type": "markdown",
      "metadata": {
        "id": "mEg0-L6s_3wS",
        "colab_type": "text"
      },
      "source": [
        "#Word Embedding"
      ]
    },
    {
      "cell_type": "markdown",
      "metadata": {
        "id": "dijqDawl_9eJ",
        "colab_type": "text"
      },
      "source": [
        "#1 Word2Vec"
      ]
    },
    {
      "cell_type": "markdown",
      "metadata": {
        "id": "0-18xOwVAAF-",
        "colab_type": "text"
      },
      "source": [
        "##1.1 Skip-gram 직접구현"
      ]
    },
    {
      "cell_type": "code",
      "metadata": {
        "id": "YA-gZmHA_xQQ",
        "colab_type": "code",
        "colab": {}
      },
      "source": [
        "docs = [\"natural language processing and machine learning is fun and exciting\",\n",
        "        \"natural language processing and machine learning\"]"
      ],
      "execution_count": 141,
      "outputs": []
    },
    {
      "cell_type": "code",
      "metadata": {
        "id": "F9zj1XGtAJAq",
        "colab_type": "code",
        "colab": {}
      },
      "source": [
        "from collections import defaultdict\n",
        "import numpy as np \n",
        "\n",
        "class OneHotEncoder() :\n",
        "  def __init__(self, docs) :\n",
        "    # 고유 단어와 인덱스를 매칭시켜주는 사전 생성\n",
        "    self.w2i = defaultdict(lambda:len(self.w2i))\n",
        "    [self.w2i[w] for d in docs for w in d]\n",
        "    self.i2w = {v:k for k,v in self.w2i.items()}\n",
        "\n",
        "  def _get_one_hot_vector(self, w):\n",
        "    v = [0]*len(self.w2i)\n",
        "    v[self.w2i[w]] = 1\n",
        "    return v\n",
        "\n",
        "  def encode(self, docs) :\n",
        "    ret = []\n",
        "    for d in docs :\n",
        "      tmp = []\n",
        "      for w in d :\n",
        "        tmp.append(self._get_one_hot_vector(w))\n",
        "      ret.append(tmp)\n",
        "    return ret\n",
        "\n",
        "  def decode(self, v) :\n",
        "    return self.i2w[v.index(1)]"
      ],
      "execution_count": 142,
      "outputs": []
    },
    {
      "cell_type": "markdown",
      "metadata": {
        "id": "6qru8FFY-sba",
        "colab_type": "text"
      },
      "source": [
        "![대체 텍스트](https://miro.medium.com/max/1400/1*uuVrJhSF89KGJPltvJ4xhg.png)"
      ]
    },
    {
      "cell_type": "code",
      "metadata": {
        "id": "FX0iaQkFBtx2",
        "colab_type": "code",
        "colab": {}
      },
      "source": [
        "from tqdm.notebook import tqdm as tqdm\n",
        "\n",
        "class Word2Vec() :\n",
        "  def __iniit__(self):\n",
        "    pass\n",
        "\n",
        "  def _slide_window(self, encoded_docs) :\n",
        "    win_size = 2\n",
        "    ret = []\n",
        "\n",
        "    for d in encoded_docs : \n",
        "      win_doc = []\n",
        "      for i, w in enumerate(d) :\n",
        "        s, e = max(0, i - win_size), min(len(d), i + win_size)\n",
        "        context = d[s:e+1]\n",
        "        center = context.pop(i-s)\n",
        "        win_doc.append((center, context))\n",
        "      ret.append(win_doc)\n",
        "    return ret\n",
        "\n",
        "  def _softmax(self, output) :\n",
        "    return np.exp(output) / np.sum(np.exp(output))\n",
        "\n",
        "  #SGD to backpropagate errors \n",
        "  def _backpropagation(self, W1, W2, hidden, predict, center, context, learning_rate) :\n",
        "      err = (self._softmax(predict) - context).sum(axis=0)\n",
        "\n",
        "      delta_W2 = np.outer(hidden, err)\n",
        "      delta_W1 = np.outer(center, np.dot(W2, err))\n",
        "\n",
        "      W1 = W1 - learning_rate * delta_W1\n",
        "      W2 = W2 - learning_rate * delta_W2\n",
        "\n",
        "      return W1, W2\n",
        "\n",
        "  def skipgram(self, docs, embedding_size = 5, learning_rate = 0.001, epoch = 10) :\n",
        "    tokenized_docs = [d.split() for d in docs]\n",
        "    ohe = OneHotEncoder(tokenized_docs)\n",
        "    encoded_docs = ohe.encode(tokenized_docs)\n",
        "    \n",
        "    onehot_size = len(encoded_docs[0][0])\n",
        "    W1 = np.random.rand(onehot_size, embedding_size)\n",
        "    W2 = np.random.rand(embedding_size, onehot_size)\n",
        "\n",
        "    sliding_docs = self._slide_window(encoded_docs)\n",
        "    for i in tqdm(range(epoch), desc='word embedding') :\n",
        "      for d in  sliding_docs:\n",
        "        for center, context in d : \n",
        "          hidden = np.dot(center, W1)\n",
        "          predict = np.dot(hidden, W2)\n",
        "          W1, W2 = self._backpropagation(W1, W2, hidden, predict, center, context, learning_rate)\n",
        "    \n",
        "    self.i2w = ohe.i2w\n",
        "    self.wv_ = {self.i2w[i]:list(we) for i, we in enumerate(W1)}\n",
        "    self.word_vectors = W1\n",
        "\n",
        "    return self.wv_\n",
        "\n",
        "  def most_similar(self, word, n = 3) :\n",
        "    v = self.wv_[word]\n",
        "    similarity = np.dot(v, self.word_vectors.T)\n",
        "    return [(self.i2w[i], similarity[i], self.word_vectors[i]) for i in similarity.argsort()[::-1][1:n+1]]\n",
        "\n"
      ],
      "execution_count": 198,
      "outputs": []
    },
    {
      "cell_type": "code",
      "metadata": {
        "id": "O6617dgo7HjO",
        "colab_type": "code",
        "colab": {
          "base_uri": "https://localhost:8080/",
          "height": 236,
          "referenced_widgets": [
            "64cde0616e8d49a587691e00ce08cc90",
            "1df2fa008280462b85cbf0a7fbee87ad",
            "2ed023b1e8774e6ea714e45bdcb5426a",
            "0e3b2532d7f94bf585d8d13929a1e60e",
            "b6a5a160fa7a42ffb22a78b9dea3e931",
            "61801d42d60d494595b3d4ded9cd4959",
            "3f3de8e349ec48b0800612d1a0d9419d",
            "911d359a902d4d33bea705066cbd6f6e"
          ]
        },
        "outputId": "7de954ec-1752-4179-d312-0a5909fc62b6"
      },
      "source": [
        "sg = Word2Vec()\n",
        "sg.skipgram(docs, epoch=1000)\n",
        "print(sg.wv_['natural'])\n",
        "sg.most_similar('natural')"
      ],
      "execution_count": 199,
      "outputs": [
        {
          "output_type": "display_data",
          "data": {
            "application/vnd.jupyter.widget-view+json": {
              "model_id": "64cde0616e8d49a587691e00ce08cc90",
              "version_minor": 0,
              "version_major": 2
            },
            "text/plain": [
              "HBox(children=(FloatProgress(value=0.0, description='word embedding', max=1000.0, style=ProgressStyle(descript…"
            ]
          },
          "metadata": {
            "tags": []
          }
        },
        {
          "output_type": "stream",
          "text": [
            "\n",
            "[0.03396338642025993, 0.7732812789567359, 1.668441363166191, 0.712571167105562, -0.7448306217179556]\n"
          ],
          "name": "stdout"
        },
        {
          "output_type": "execute_result",
          "data": {
            "text/plain": [
              "[('processing',\n",
              "  2.746783796570668,\n",
              "  array([0.41944852, 0.5124866 , 1.57543873, 0.39955891, 0.77467237])),\n",
              " ('language',\n",
              "  2.7204295776280984,\n",
              "  array([0.19363369, 1.73634297, 1.08111746, 0.33134178, 0.89780691])),\n",
              " ('and',\n",
              "  0.8495381237043158,\n",
              "  array([-0.10656914, -0.37016593,  0.06767088,  1.15044729, -0.27753893]))]"
            ]
          },
          "metadata": {
            "tags": []
          },
          "execution_count": 199
        }
      ]
    }
  ]
}